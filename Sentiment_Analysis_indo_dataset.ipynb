{
  "nbformat": 4,
  "nbformat_minor": 0,
  "metadata": {
    "colab": {
      "name": "Sentiment Analysis_indo_dataset.ipynb",
      "provenance": [],
      "collapsed_sections": [],
      "toc_visible": true
    },
    "kernelspec": {
      "name": "python3",
      "display_name": "Python 3"
    }
  },
  "cells": [
    {
      "cell_type": "code",
      "metadata": {
        "id": "xMNZGhKOWiTs",
        "colab_type": "code",
        "outputId": "a5ad855f-a935-43cb-fe6f-5f989776e0ef",
        "colab": {
          "base_uri": "https://localhost:8080/",
          "height": 34
        }
      },
      "source": [
        "%tensorflow_version 2.x"
      ],
      "execution_count": 1,
      "outputs": [
        {
          "output_type": "stream",
          "text": [
            "TensorFlow 2.x selected.\n"
          ],
          "name": "stdout"
        }
      ]
    },
    {
      "cell_type": "code",
      "metadata": {
        "id": "kWxsGSShh36a",
        "colab_type": "code",
        "colab": {}
      },
      "source": [
        "import numpy as np # linear algebra\n",
        "import pandas as pd # data processing, CSV file I/O (e.g. pd.read_csv)\n",
        "\n",
        "from sklearn.feature_extraction.text import CountVectorizer\n",
        "from tensorflow.keras.preprocessing.text import Tokenizer\n",
        "from tensorflow.keras.preprocessing.sequence import pad_sequences\n",
        "from tensorflow.keras.models import Sequential\n",
        "from tensorflow.keras.layers import Dense, Embedding, LSTM, SpatialDropout1D, Dropout\n",
        "from sklearn.model_selection import train_test_split\n",
        "from tensorflow.keras.utils import to_categorical"
      ],
      "execution_count": 0,
      "outputs": []
    },
    {
      "cell_type": "code",
      "metadata": {
        "id": "4Y-p8xjHh6bE",
        "colab_type": "code",
        "colab": {}
      },
      "source": [
        "data = pd.read_csv(\"indo_dataset.csv\")"
      ],
      "execution_count": 0,
      "outputs": []
    },
    {
      "cell_type": "code",
      "metadata": {
        "id": "hqtFhczDsbR7",
        "colab_type": "code",
        "outputId": "287f9dfc-041f-4e51-fc89-b13464a93a57",
        "colab": {
          "base_uri": "https://localhost:8080/",
          "height": 84
        }
      },
      "source": [
        "data.iloc[0]"
      ],
      "execution_count": 5,
      "outputs": [
        {
          "output_type": "execute_result",
          "data": {
            "text/plain": [
              "index                                                       0\n",
              "sentimen                                                    0\n",
              "Tweet       lagu bosan apa yang aku save ni huhuhuhuhuhuhu...\n",
              "Name: 0, dtype: object"
            ]
          },
          "metadata": {
            "tags": []
          },
          "execution_count": 5
        }
      ]
    },
    {
      "cell_type": "code",
      "metadata": {
        "id": "XxLSYJcBiwB-",
        "colab_type": "code",
        "colab": {}
      },
      "source": [
        "max_fatures = 2500\n",
        "tokenizer = Tokenizer(num_words=max_fatures, split=' ')\n",
        "tokenizer.fit_on_texts(data['Tweet'].values)"
      ],
      "execution_count": 0,
      "outputs": []
    },
    {
      "cell_type": "code",
      "metadata": {
        "id": "ghxMFn_4i0ZW",
        "colab_type": "code",
        "colab": {}
      },
      "source": [
        "X = tokenizer.texts_to_sequences(data['Tweet'].values)"
      ],
      "execution_count": 0,
      "outputs": []
    },
    {
      "cell_type": "code",
      "metadata": {
        "id": "EbWHIeDissj5",
        "colab_type": "code",
        "outputId": "b3645791-b5c1-4986-b07d-aab57198a189",
        "colab": {
          "base_uri": "https://localhost:8080/",
          "height": 34
        }
      },
      "source": [
        "X[0]"
      ],
      "execution_count": 8,
      "outputs": [
        {
          "output_type": "execute_result",
          "data": {
            "text/plain": [
              "[629, 983, 15, 3, 1, 1735, 17]"
            ]
          },
          "metadata": {
            "tags": []
          },
          "execution_count": 8
        }
      ]
    },
    {
      "cell_type": "code",
      "metadata": {
        "id": "f5wUMom5j_H5",
        "colab_type": "code",
        "colab": {}
      },
      "source": [
        "X = pad_sequences(X)"
      ],
      "execution_count": 0,
      "outputs": []
    },
    {
      "cell_type": "code",
      "metadata": {
        "id": "pIl2Pplqp8Pa",
        "colab_type": "code",
        "colab": {}
      },
      "source": [
        "Y = pd.get_dummies(data['sentimen']).values"
      ],
      "execution_count": 0,
      "outputs": []
    },
    {
      "cell_type": "code",
      "metadata": {
        "id": "16eVoAwHqBVN",
        "colab_type": "code",
        "colab": {}
      },
      "source": [
        "X_train, X_test, Y_train, Y_test = train_test_split(X,Y, test_size = 0.33, random_state = 42)"
      ],
      "execution_count": 0,
      "outputs": []
    },
    {
      "cell_type": "code",
      "metadata": {
        "id": "v8IYqRR4lLO4",
        "colab_type": "code",
        "outputId": "d9b44b51-2ebd-49dc-a096-eef9c4cf2e76",
        "colab": {
          "base_uri": "https://localhost:8080/",
          "height": 370
        }
      },
      "source": [
        "embed_dim = 128\n",
        "\n",
        "model = Sequential()\n",
        "model.add(Embedding(max_fatures, embed_dim,input_length = X.shape[1]))\n",
        "model.add(LSTM(256, dropout=0.5, recurrent_dropout=0.5))\n",
        "model.add(Dropout(0.5))\n",
        "model.add(Dense(64, activation='relu'))\n",
        "model.add(Dropout(0.5))\n",
        "model.add(Dense(2, activation='softmax'))\n",
        "model.compile(loss = 'categorical_crossentropy', optimizer='adam',metrics = ['accuracy'])\n",
        "print(model.summary())"
      ],
      "execution_count": 12,
      "outputs": [
        {
          "output_type": "stream",
          "text": [
            "Model: \"sequential\"\n",
            "_________________________________________________________________\n",
            "Layer (type)                 Output Shape              Param #   \n",
            "=================================================================\n",
            "embedding (Embedding)        (None, 25, 128)           320000    \n",
            "_________________________________________________________________\n",
            "lstm (LSTM)                  (None, 256)               394240    \n",
            "_________________________________________________________________\n",
            "dropout (Dropout)            (None, 256)               0         \n",
            "_________________________________________________________________\n",
            "dense (Dense)                (None, 64)                16448     \n",
            "_________________________________________________________________\n",
            "dropout_1 (Dropout)          (None, 64)                0         \n",
            "_________________________________________________________________\n",
            "dense_1 (Dense)              (None, 2)                 130       \n",
            "=================================================================\n",
            "Total params: 730,818\n",
            "Trainable params: 730,818\n",
            "Non-trainable params: 0\n",
            "_________________________________________________________________\n",
            "None\n"
          ],
          "name": "stdout"
        }
      ]
    },
    {
      "cell_type": "code",
      "metadata": {
        "id": "Tt5DRDaAm9nW",
        "colab_type": "code",
        "outputId": "006d9b65-5981-488c-d7f2-b5d47230071f",
        "colab": {
          "base_uri": "https://localhost:8080/",
          "height": 386
        }
      },
      "source": [
        "batch_size = 32\n",
        "model.fit(X_train, Y_train, validation_data=(X_test, Y_test), epochs = 10, batch_size=batch_size)"
      ],
      "execution_count": 13,
      "outputs": [
        {
          "output_type": "stream",
          "text": [
            "Train on 3670 samples, validate on 1809 samples\n",
            "Epoch 1/10\n",
            "3670/3670 [==============================] - 26s 7ms/sample - loss: 0.6886 - accuracy: 0.5368 - val_loss: 0.6647 - val_accuracy: 0.6130\n",
            "Epoch 2/10\n",
            "3670/3670 [==============================] - 23s 6ms/sample - loss: 0.5991 - accuracy: 0.6831 - val_loss: 0.5867 - val_accuracy: 0.6932\n",
            "Epoch 3/10\n",
            "3670/3670 [==============================] - 23s 6ms/sample - loss: 0.4378 - accuracy: 0.7975 - val_loss: 0.6114 - val_accuracy: 0.6866\n",
            "Epoch 4/10\n",
            "3670/3670 [==============================] - 22s 6ms/sample - loss: 0.3684 - accuracy: 0.8455 - val_loss: 0.7151 - val_accuracy: 0.7324\n",
            "Epoch 5/10\n",
            "3670/3670 [==============================] - 22s 6ms/sample - loss: 0.3056 - accuracy: 0.8782 - val_loss: 0.6835 - val_accuracy: 0.7164\n",
            "Epoch 6/10\n",
            "3670/3670 [==============================] - 23s 6ms/sample - loss: 0.2473 - accuracy: 0.9019 - val_loss: 0.8741 - val_accuracy: 0.7253\n",
            "Epoch 7/10\n",
            "3670/3670 [==============================] - 22s 6ms/sample - loss: 0.2225 - accuracy: 0.9125 - val_loss: 0.9813 - val_accuracy: 0.7164\n",
            "Epoch 8/10\n",
            "3670/3670 [==============================] - 23s 6ms/sample - loss: 0.1833 - accuracy: 0.9324 - val_loss: 1.1329 - val_accuracy: 0.7236\n",
            "Epoch 9/10\n",
            "3670/3670 [==============================] - 23s 6ms/sample - loss: 0.1589 - accuracy: 0.9316 - val_loss: 1.1486 - val_accuracy: 0.7015\n",
            "Epoch 10/10\n",
            "3670/3670 [==============================] - 22s 6ms/sample - loss: 0.1559 - accuracy: 0.9395 - val_loss: 1.3196 - val_accuracy: 0.7225\n"
          ],
          "name": "stdout"
        },
        {
          "output_type": "execute_result",
          "data": {
            "text/plain": [
              "<tensorflow.python.keras.callbacks.History at 0x7f4119220978>"
            ]
          },
          "metadata": {
            "tags": []
          },
          "execution_count": 13
        }
      ]
    },
    {
      "cell_type": "code",
      "metadata": {
        "id": "ux05lQssqX1N",
        "colab_type": "code",
        "colab": {}
      },
      "source": [
        "X_T = tokenizer.texts_to_sequences(np.array([\"saya benci baso\", \"saya suka baso\"]))\n",
        "X_T = pad_sequences(X_T, maxlen=25)"
      ],
      "execution_count": 0,
      "outputs": []
    },
    {
      "cell_type": "code",
      "metadata": {
        "id": "JtZRIiv-rPdD",
        "colab_type": "code",
        "outputId": "5da7b938-5dcc-41a2-806e-12239daa32c0",
        "colab": {
          "base_uri": "https://localhost:8080/",
          "height": 50
        }
      },
      "source": [
        "for d in np.argmax(model.predict(X_T), axis=0):\n",
        "  print([\"Negativ\", \"Positif\"][d])"
      ],
      "execution_count": 15,
      "outputs": [
        {
          "output_type": "stream",
          "text": [
            "Negativ\n",
            "Positif\n"
          ],
          "name": "stdout"
        }
      ]
    },
    {
      "cell_type": "code",
      "metadata": {
        "id": "PiXmDIrQrvDz",
        "colab_type": "code",
        "colab": {}
      },
      "source": [
        "model.save_weights('lstm.h5')"
      ],
      "execution_count": 0,
      "outputs": []
    },
    {
      "cell_type": "code",
      "metadata": {
        "id": "sQvJKOY4trjO",
        "colab_type": "code",
        "outputId": "d56bc9bc-82c5-4c2f-ff28-8b22a56d0172",
        "colab": {
          "base_uri": "https://localhost:8080/",
          "height": 302
        }
      },
      "source": [
        "model2 = Sequential()\n",
        "model2.add(Embedding(max_fatures, embed_dim,input_length = X.shape[1]))\n",
        "model2.add(LSTM(256))\n",
        "model2.add(Dense(64, activation='relu'))\n",
        "model2.add(Dense(2, activation='softmax'))\n",
        "model2.compile(loss = 'categorical_crossentropy', optimizer='adam',metrics = ['accuracy'])\n",
        "print(model2.summary())"
      ],
      "execution_count": 17,
      "outputs": [
        {
          "output_type": "stream",
          "text": [
            "Model: \"sequential_1\"\n",
            "_________________________________________________________________\n",
            "Layer (type)                 Output Shape              Param #   \n",
            "=================================================================\n",
            "embedding_1 (Embedding)      (None, 25, 128)           320000    \n",
            "_________________________________________________________________\n",
            "lstm_1 (LSTM)                (None, 256)               394240    \n",
            "_________________________________________________________________\n",
            "dense_2 (Dense)              (None, 64)                16448     \n",
            "_________________________________________________________________\n",
            "dense_3 (Dense)              (None, 2)                 130       \n",
            "=================================================================\n",
            "Total params: 730,818\n",
            "Trainable params: 730,818\n",
            "Non-trainable params: 0\n",
            "_________________________________________________________________\n",
            "None\n"
          ],
          "name": "stdout"
        }
      ]
    },
    {
      "cell_type": "code",
      "metadata": {
        "id": "z7-Yc8QityHX",
        "colab_type": "code",
        "colab": {}
      },
      "source": [
        "model2.load_weights('lstm.h5')"
      ],
      "execution_count": 0,
      "outputs": []
    },
    {
      "cell_type": "code",
      "metadata": {
        "id": "fGCTezget1UL",
        "colab_type": "code",
        "outputId": "0827706e-b403-4fd2-85fd-133e27f0a20d",
        "colab": {
          "base_uri": "https://localhost:8080/",
          "height": 50
        }
      },
      "source": [
        "for d in np.argmax(model2.predict(X_T), axis=0):\n",
        "  print([\"Negativ\", \"Positif\"][d])"
      ],
      "execution_count": 19,
      "outputs": [
        {
          "output_type": "stream",
          "text": [
            "Negativ\n",
            "Positif\n"
          ],
          "name": "stdout"
        }
      ]
    }
  ]
}